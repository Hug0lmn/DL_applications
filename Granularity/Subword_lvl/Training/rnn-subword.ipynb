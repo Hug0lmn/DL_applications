{
 "cells": [
  {
   "cell_type": "code",
   "execution_count": null,
   "metadata": {
    "execution": {
     "iopub.execute_input": "2025-10-08T08:29:17.681487Z",
     "iopub.status.busy": "2025-10-08T08:29:17.681154Z",
     "iopub.status.idle": "2025-10-08T08:29:28.039629Z",
     "shell.execute_reply": "2025-10-08T08:29:28.039009Z",
     "shell.execute_reply.started": "2025-10-08T08:29:17.681458Z"
    },
    "trusted": true
   },
   "outputs": [],
   "source": [
    "import torch\n",
    "from torch.utils.data import Dataset\n",
    "from torch.utils.data import DataLoader\n",
    "import torch.nn as nn\n",
    "import re\n",
    "import numpy as np\n",
    "import pickle\n",
    "from transformers import PreTrainedTokenizerFast\n",
    "from torch.utils.data import random_split\n",
    "import torch\n",
    "from torch.nn.utils.rnn import pad_sequence\n",
    "from torch.utils.data import DataLoader\n",
    "from functools import partial\n",
    "import math\n"
   ]
  },
  {
   "cell_type": "code",
   "execution_count": null,
   "metadata": {
    "execution": {
     "iopub.execute_input": "2025-10-08T08:29:28.041572Z",
     "iopub.status.busy": "2025-10-08T08:29:28.041141Z",
     "iopub.status.idle": "2025-10-08T08:29:28.102587Z",
     "shell.execute_reply": "2025-10-08T08:29:28.101683Z",
     "shell.execute_reply.started": "2025-10-08T08:29:28.041552Z"
    },
    "trusted": true
   },
   "outputs": [],
   "source": [
    "tokenizer = PreTrainedTokenizerFast(\n",
    "    tokenizer_file=\"../../../Corpus/Encoding_RNN_LSTM/Subword/rap_tokenizer.json\",\n",
    "    pad_token = \"<PAD>\")"
   ]
  },
  {
   "cell_type": "markdown",
   "metadata": {},
   "source": [
    "## Creation of the dataset"
   ]
  },
  {
   "cell_type": "code",
   "execution_count": null,
   "metadata": {
    "execution": {
     "iopub.execute_input": "2025-10-08T08:29:28.104227Z",
     "iopub.status.busy": "2025-10-08T08:29:28.103509Z",
     "iopub.status.idle": "2025-10-08T08:29:30.623276Z",
     "shell.execute_reply": "2025-10-08T08:29:30.622687Z",
     "shell.execute_reply.started": "2025-10-08T08:29:28.104206Z"
    },
    "trusted": true
   },
   "outputs": [],
   "source": [
    "dataset_ = np.load(\"../../../Corpus/Encoding_RNN_LSTM/Subword/encoded.npy\",\"r\")\n",
    "\n",
    "result = []\n",
    "for t in dataset_:\n",
    "    if t == tokenizer.convert_tokens_to_ids(\"α\") : \n",
    "        current = []\n",
    "        current.append(t)\n",
    "    elif t == tokenizer.convert_tokens_to_ids(\"θ\") :\n",
    "        current.append(t)\n",
    "        result.append(torch.tensor(current))\n",
    "    else :\n",
    "        current.append(t)\n",
    "if current:  \n",
    "    result.append(torch.tensor(current))"
   ]
  },
  {
   "cell_type": "code",
   "execution_count": null,
   "metadata": {
    "execution": {
     "iopub.execute_input": "2025-10-08T08:29:30.624156Z",
     "iopub.status.busy": "2025-10-08T08:29:30.623916Z",
     "iopub.status.idle": "2025-10-08T08:29:30.646549Z",
     "shell.execute_reply": "2025-10-08T08:29:30.645861Z",
     "shell.execute_reply.started": "2025-10-08T08:29:30.624139Z"
    },
    "trusted": true
   },
   "outputs": [],
   "source": [
    "class SongDataset(Dataset):\n",
    "    def __init__(self, texts, length_seq, stride, use_offset=True):\n",
    "        self.samples = []\n",
    "        self.length_seq = length_seq\n",
    "        self.stride = stride\n",
    "\n",
    "        for text in texts:\n",
    "            L = len(text)\n",
    "\n",
    "            offset = torch.randint(0, stride, (1,)).item() if use_offset else 0\n",
    "\n",
    "            for start in range(offset, max(1, L - self.length_seq), self.stride):\n",
    "                x_start, x_end = start, start + self.length_seq\n",
    "                y_start, y_end = start + 1, start + 1 + self.length_seq\n",
    "\n",
    "                x = text[x_start:x_end]\n",
    "                y = text[y_start:y_end]\n",
    "\n",
    "                self.samples.append((x, y))\n",
    "\n",
    "    def __len__(self):\n",
    "        return len(self.samples)\n",
    "\n",
    "    def __getitem__(self, idx):\n",
    "        return self.samples[idx]"
   ]
  },
  {
   "cell_type": "markdown",
   "metadata": {},
   "source": [
    "## Creation of Dataloader and co"
   ]
  },
  {
   "cell_type": "code",
   "execution_count": null,
   "metadata": {
    "execution": {
     "iopub.execute_input": "2025-10-08T08:29:31.215702Z",
     "iopub.status.busy": "2025-10-08T08:29:31.215418Z",
     "iopub.status.idle": "2025-10-08T08:29:31.221394Z",
     "shell.execute_reply": "2025-10-08T08:29:31.220660Z",
     "shell.execute_reply.started": "2025-10-08T08:29:31.215676Z"
    },
    "trusted": true
   },
   "outputs": [],
   "source": [
    "def collate_batch(batch, tokenizer):\n",
    "    X, Y = zip(*batch)\n",
    "\n",
    "    # Pad each side to the longest sequence in the batch\n",
    "    X_padded = pad_sequence(X, batch_first=True, padding_value=tokenizer.pad_token_id)\n",
    "    Y_padded = pad_sequence(Y, batch_first=True, padding_value=tokenizer.pad_token_id)\n",
    "\n",
    "    batch_enc = [ X_padded,Y_padded]\n",
    "\n",
    "    return batch_enc\n",
    "\n",
    "# Create a callable version of collate_fn with your tokenizer\n",
    "collate_fn = partial(collate_batch, tokenizer=tokenizer)\n",
    "\n",
    "#Normally a function requires to specify the options at the initiation but partial allows to specify values for the required option that will\n",
    "#be stored and then be used when the function will be called\n",
    "# collate_fn(batch) == collate_batch(batch, tokenizer=tokenizer)"
   ]
  },
  {
   "cell_type": "code",
   "execution_count": null,
   "metadata": {},
   "outputs": [],
   "source": [
    "stride = 4\n",
    "batch_size = 512\n",
    "seq_length = 256"
   ]
  },
  {
   "cell_type": "code",
   "execution_count": null,
   "metadata": {
    "execution": {
     "iopub.execute_input": "2025-10-08T08:29:31.222317Z",
     "iopub.status.busy": "2025-10-08T08:29:31.222127Z",
     "iopub.status.idle": "2025-10-08T08:29:31.243898Z",
     "shell.execute_reply": "2025-10-08T08:29:31.243246Z",
     "shell.execute_reply.started": "2025-10-08T08:29:31.222302Z"
    },
    "trusted": true
   },
   "outputs": [],
   "source": [
    "len_train = int(len(result) * 0.85)\n",
    "len_test = len(result) - len_train\n",
    "\n",
    "train, test = random_split(result, [len_train, len_test])\n",
    "\n",
    "train_ds = SongDataset(train, length_seq=seq_length, stride = stride, use_offset = True)\n",
    "test_ds = SongDataset(test, length_seq=seq_length, stride = stride, use_offset = False)\n",
    "\n",
    "train_dl = DataLoader(train_ds, batch_size=batch_size, pin_memory=True, pin_memory_device=\"cuda:0\", \n",
    "                        num_workers=4, prefetch_factor=4, shuffle=False, drop_last=True, collate_fn = collate_fn) #Shuffle False because we need the RNN to use previous sequences data to predict next one\n",
    "test_dl = DataLoader(test_ds, batch_size=batch_size, pin_memory=True, pin_memory_device=\"cuda:0\", \n",
    "                       num_workers=2, prefetch_factor=2, shuffle=False, drop_last=True, collate_fn = collate_fn)"
   ]
  },
  {
   "cell_type": "markdown",
   "metadata": {},
   "source": [
    "## Models"
   ]
  },
  {
   "cell_type": "markdown",
   "metadata": {},
   "source": [
    "### Training part"
   ]
  },
  {
   "cell_type": "code",
   "execution_count": null,
   "metadata": {
    "execution": {
     "iopub.execute_input": "2025-10-08T08:29:31.261684Z",
     "iopub.status.busy": "2025-10-08T08:29:31.261434Z",
     "iopub.status.idle": "2025-10-08T08:29:31.277342Z",
     "shell.execute_reply": "2025-10-08T08:29:31.276729Z",
     "shell.execute_reply.started": "2025-10-08T08:29:31.261661Z"
    },
    "trusted": true
   },
   "outputs": [],
   "source": [
    "class Subword_RNN(nn.Module):\n",
    "    def __init__(self, vocab_size, emb_size, hidden_size, num_layers=1, dropout = 0):\n",
    "        super(Subword_RNN, self).__init__()\n",
    "        self.hidden_size = hidden_size\n",
    "        self.num_layers = num_layers\n",
    "        \n",
    "        self.embedding = nn.Embedding(vocab_size, emb_size)\n",
    "        self.rnn = nn.RNN(emb_size, hidden_size, num_layers, batch_first=True, dropout = dropout, nonlinearity =\"relu\")\n",
    "        self.drop = nn.Dropout(p=dropout)\n",
    "        self.ln = nn.LayerNorm(hidden_size)\n",
    "        self.fc = nn.Linear(hidden_size, vocab_size)\n",
    "\n",
    "    def forward(self, x, hidden):\n",
    "        x = self.drop(self.embedding(x))\n",
    "        out, hidden = self.rnn(x, hidden)\n",
    "        out = self.drop(out)\n",
    "        out = self.fc(out)                  \n",
    "        return out, hidden\n",
    "\n",
    "    def init_hidden(self, batch_size):\n",
    "        return torch.zeros(self.num_layers, batch_size, self.hidden_size)"
   ]
  },
  {
   "cell_type": "code",
   "execution_count": null,
   "metadata": {
    "execution": {
     "iopub.execute_input": "2025-10-08T08:29:31.278308Z",
     "iopub.status.busy": "2025-10-08T08:29:31.278077Z",
     "iopub.status.idle": "2025-10-08T08:29:31.298108Z",
     "shell.execute_reply": "2025-10-08T08:29:31.297471Z",
     "shell.execute_reply.started": "2025-10-08T08:29:31.278292Z"
    },
    "trusted": true
   },
   "outputs": [],
   "source": [
    "device1 = torch.device(\"cuda:0\")"
   ]
  },
  {
   "cell_type": "code",
   "execution_count": null,
   "metadata": {
    "execution": {
     "iopub.execute_input": "2025-10-08T08:29:31.314796Z",
     "iopub.status.busy": "2025-10-08T08:29:31.314499Z",
     "iopub.status.idle": "2025-10-08T08:29:39.221426Z",
     "shell.execute_reply": "2025-10-08T08:29:39.220578Z",
     "shell.execute_reply.started": "2025-10-08T08:29:31.314779Z"
    },
    "trusted": true
   },
   "outputs": [],
   "source": [
    "embedding_dim = 384\n",
    "vocab_size = tokenizer.vocab_size\n",
    "hidden_size = 512\n",
    "num_epoch = 100\n",
    "\n",
    "nb_step_train = len(train_dl)\n",
    "nb_step_test = len(test_dl)\n",
    "\n",
    "model = Subword_RNN(vocab_size, embedding_dim, hidden_size, num_layers=3, dropout = 0.2).to(device1)\n",
    "model = torch.compile(model)\n",
    "\n",
    "loss_fn = nn.CrossEntropyLoss()\n",
    "\n",
    "opti = torch.optim.AdamW(model.parameters(), lr=0.002, weight_decay=1e-4)\n",
    "sched_warm = torch.optim.lr_scheduler.LinearLR(opti,start_factor=0.2,end_factor=1.0,total_iters=nb_step_train * 3)\n",
    "sched_post = torch.optim.lr_scheduler.CosineAnnealingWarmRestarts(opti, T_0=nb_step_train*20, T_mult=2, eta_min=0.0002) "
   ]
  },
  {
   "cell_type": "markdown",
   "metadata": {},
   "source": [
    "### Functions for training"
   ]
  },
  {
   "cell_type": "code",
   "execution_count": null,
   "metadata": {
    "execution": {
     "iopub.execute_input": "2025-10-08T09:09:37.694132Z",
     "iopub.status.busy": "2025-10-08T09:09:37.693657Z",
     "iopub.status.idle": "2025-10-08T09:09:37.704837Z",
     "shell.execute_reply": "2025-10-08T09:09:37.704177Z",
     "shell.execute_reply.started": "2025-10-08T09:09:37.694112Z"
    },
    "trusted": true
   },
   "outputs": [],
   "source": [
    "@torch.no_grad()\n",
    "def evaluate_tf1(model, dl, loss_fn, device, vocab_size, bs = batch_size, sl = seq_length):\n",
    "    \"\"\"Validation with teacher forcing = 1 (parallel, fast). Returns (ppl, acc).\"\"\"\n",
    "    model.eval()\n",
    "    total_loss = 0.0\n",
    "    total_tokens = 0\n",
    "    correct = 0\n",
    "    total = 0\n",
    "\n",
    "    for X, Y in dl:\n",
    "        X = X.to(device)\n",
    "        Y = Y.to(device, dtype=torch.long)\n",
    "        hid = model.init_hidden(bs, device1)\n",
    "\n",
    "        with torch.amp.autocast(device_type=\"cuda\"):\n",
    "            pred, _ = model(X, hid) \n",
    "            loss = loss_fn(pred.view(-1, vocab_size), Y.view(-1))\n",
    "\n",
    "        total_loss += loss.item() * bs * sl\n",
    "        total_tokens += bs * sl\n",
    "\n",
    "        pred_ids = pred.argmax(dim=-1)\n",
    "        correct += (pred_ids == Y).sum().item()\n",
    "        total += bs * sl\n",
    "\n",
    "    ppl = math.exp(total_loss / max(1, total_tokens))\n",
    "    acc = correct / max(1, total)\n",
    "    return ppl, acc\n",
    "\n",
    "\n",
    "@torch.no_grad()\n",
    "def evaluate_free(model, dl, loss_fn, device, bs=batch_size, sl=seq_length):\n",
    "    \"\"\"\n",
    "    Autoregressive validation (teacher forcing = 0).\n",
    "    Steps one token at a time and feeds predictions back in.\n",
    "    Returns ppl.\n",
    "    \"\"\"\n",
    "    model.eval()\n",
    "    total_loss = 0.0\n",
    "    total_tokens = 0\n",
    "\n",
    "    for X, Y in dl:\n",
    "        X = X.to(device)\n",
    "        Y = Y.to(device, dtype=torch.long)\n",
    "        hid = model.init_hidden(bs, device1)\n",
    "\n",
    "        # Start with the first input token\n",
    "        inp = X[:, :1]  \n",
    "        for t in range(sl):\n",
    "            with torch.amp.autocast(device_type=\"cuda\"):\n",
    "                pred, hid = model(inp, hid)          \n",
    "                logits = pred[:, -1, :]              \n",
    "                loss = loss_fn(logits, Y[:, t])      \n",
    "\n",
    "            total_loss += loss.item() * bs\n",
    "            total_tokens += bs\n",
    "\n",
    "            # Greedy next-token to feed back in\n",
    "            next_token = logits.argmax(dim=-1).unsqueeze(1)  \n",
    "            inp = next_token\n",
    "\n",
    "    ppl = math.exp(total_loss / max(1, total_tokens))\n",
    "    return ppl\n",
    "\n",
    "def sample_with_temp(logits, temp=1.0):\n",
    "    probs = (logits / temp).softmax(dim=-1)\n",
    "    next_token = torch.multinomial(probs, num_samples=1)\n",
    "    return next_token\n",
    "\n",
    "def distinct_n_chars(text, n=3):\n",
    "    ngrams = [text[i:i+n] for i in range(len(text)-n+1)]\n",
    "    return len(set(ngrams)) / max(1, len(ngrams))"
   ]
  },
  {
   "cell_type": "code",
   "execution_count": null,
   "metadata": {
    "execution": {
     "iopub.execute_input": "2025-10-08T09:43:21.278350Z",
     "iopub.status.busy": "2025-10-08T09:43:21.278023Z"
    },
    "trusted": true
   },
   "outputs": [],
   "source": [
    "l_tot = []\n",
    "bs = batch_size\n",
    "sl = seq_length\n",
    "teacher_forcing_ratio = 1.0\n",
    "\n",
    "scaler = torch.amp.GradScaler()\n",
    "\n",
    "for epoch in range(num_epoch):\n",
    "\n",
    "    # --- Teacher Forcing ratio decay ---\n",
    "    teacher_forcing_ratio = teacher_forcing_ratio - 0.01\n",
    "    print(f\"\\nEpoch {epoch} | Teacher forcing ratio = {teacher_forcing_ratio:.2f}\")\n",
    "\n",
    "    model.train()\n",
    "\n",
    "    # -------------- TRAIN LOOP --------------\n",
    "    train_loss = 0.0\n",
    "\n",
    "    for X,Y in iter(train_dl) :\n",
    "        hid = model.init_hidden(batch_size).to(device1)\n",
    "        X = X.to(device1)\n",
    "        Y = Y.to(device1, dtype=torch.long)\n",
    "        opti.zero_grad(set_to_none=True)\n",
    "\n",
    "        if teacher_forcing_ratio == 1.0:\n",
    "            with torch.amp.autocast(device_type=\"cuda\"):\n",
    "                pred, hid = model(X, hid)\n",
    "                loss = loss_fn(pred.view(-1, vocab_size), Y.view(-1))\n",
    "        else:\n",
    "            # ---- Pass 1: forward with TF=1 ----\n",
    "            with torch.no_grad(), torch.amp.autocast(device_type=\"cuda\"):\n",
    "                pred_tf, _ = model(X, hid)     \n",
    "            pred_tokens = pred_tf.argmax(dim=-1)  \n",
    "\n",
    "            # ---- Random mask for partial TF ----\n",
    "            mask = (torch.rand_like(X.float()) < teacher_forcing_ratio)\n",
    "            X_mixed = torch.where(mask, X, pred_tokens)\n",
    "\n",
    "            # ---- Pass 2: forward with partial TF ----\n",
    "            with torch.amp.autocast(device_type=\"cuda\"):\n",
    "                pred, hid = model(X_mixed, hid)\n",
    "                loss = loss_fn(pred.view(-1, vocab_size), Y.view(-1))\n",
    "\n",
    "        scaler.scale(loss).backward()\n",
    "        torch.nn.utils.clip_grad_norm_(model.parameters(), 0.5)\n",
    "        scaler.step(opti)\n",
    "        scaler.update()\n",
    "\n",
    "        train_loss_sum += loss.detach().item() \n",
    "\n",
    "        if epoch < 3:\n",
    "            sched_warm.step()\n",
    "        else:\n",
    "            sched_post.step()\n",
    "\n",
    "#        if sched_post.T_cur == 0 and epoch > 4:  #After warm restart decrease the max learning rate\n",
    "#            sched_post.base_lrs[0] = sched_post.base_lrs[0] * 0.9\n",
    "#            print(f\"Decrease {sched_post.base_lrs[0]}, {sched_post.eta_min}\")\n",
    "            \n",
    "    train_ppl = math.exp(train_loss / nb_step_train)\n",
    "\n",
    "    # -------------- VALIDATION --------------\n",
    "    val_ppl_tf1, val_acc = evaluate_tf1(model, test_dl, loss_fn, device1, vocab_size)\n",
    "    val_ppl_free = evaluate_free(model, test_dl, loss_fn, device1)\n",
    "\n",
    "    print(\n",
    "        f\"Epoch {epoch} | \"\n",
    "        f\"Train PPL: {train_ppl:.3f} | \"\n",
    "        f\"Val PPL (TF=1): {val_ppl_tf1:.3f} | \"\n",
    "        f\"Val PPL (free): {val_ppl_free:.3f} | \"\n",
    "        f\"Val Acc: {val_acc:.3f}\"\n",
    "    )\n",
    "\n",
    "    # --------- Sample generation + diversity metrics ---------\n",
    "    model.eval()\n",
    "    with torch.no_grad():\n",
    "        # Warm up\n",
    "        start = X[0:1, :20]  \n",
    "        hid_gen = model.init_hidden(1).to(device1)\n",
    "        inp = start.to(device1)\n",
    "\n",
    "        gen_chars = []\n",
    "        for t in range(200):\n",
    "            pred, hid_gen = model(inp, hid_gen)\n",
    "            logits = pred[:, -1, :]\n",
    "            next_char = sample_with_temp(logits, temp=0.6)\n",
    "            gen_chars.append(tokenizer.decode(next_char.item()))\n",
    "            inp = next_char # feed back\n",
    "\n",
    "        gen_text = \"\".join(gen_chars)\n",
    "\n",
    "    d2 = distinct_n_chars(gen_text, n=2)\n",
    "    d3 = distinct_n_chars(gen_text, n=3)\n",
    "\n",
    "    if epoch % 4 == 0 :\n",
    "        print(\"\\n=== Initial text ===\")\n",
    "        print(\"\".join(tokenizer.decode(X[0:1,:].squeeze(0))))\n",
    "        print(\"\\n=== Sample Generation ===\")\n",
    "        print(gen_text[:200])  \n",
    "        print(f\"Distinct-2: {d2:.3f} | Distinct-3: {d3:.3f}\", end=\"\\n\")\n",
    "\n",
    "    l_tot.append(val_acc)\n",
    "    torch.save(\n",
    "            {\n",
    "                \"epoch\": epoch,\n",
    "                \"model_state_dict\": model.state_dict(),\n",
    "                \"optimizer_state_dict\": opti.state_dict(),\n",
    "                \"scheduler_state_dict\": sched_post.state_dict(),\n",
    "                \"val_acc\": val_acc,\n",
    "            },\n",
    "            \"model\",\n",
    "    )"
   ]
  }
 ],
 "metadata": {
  "kaggle": {
   "accelerator": "nvidiaTeslaT4",
   "dataSources": [
    {
     "datasetId": 8348047,
     "sourceId": 13284448,
     "sourceType": "datasetVersion"
    },
    {
     "isSourceIdPinned": true,
     "modelId": 467067,
     "modelInstanceId": 450717,
     "sourceId": 601435,
     "sourceType": "modelInstanceVersion"
    }
   ],
   "dockerImageVersionId": 31090,
   "isGpuEnabled": true,
   "isInternetEnabled": true,
   "language": "python",
   "sourceType": "notebook"
  },
  "kernelspec": {
   "display_name": "Python 3",
   "language": "python",
   "name": "python3"
  },
  "language_info": {
   "codemirror_mode": {
    "name": "ipython",
    "version": 3
   },
   "file_extension": ".py",
   "mimetype": "text/x-python",
   "name": "python",
   "nbconvert_exporter": "python",
   "pygments_lexer": "ipython3",
   "version": "3.11.13"
  }
 },
 "nbformat": 4,
 "nbformat_minor": 4
}
