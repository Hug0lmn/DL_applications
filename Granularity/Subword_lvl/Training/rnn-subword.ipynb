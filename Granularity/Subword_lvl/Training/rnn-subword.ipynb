{
 "cells": [
  {
   "cell_type": "markdown",
   "metadata": {},
   "source": [
    "# This notebook will serve as a way to train subword generation RNN"
   ]
  },
  {
   "cell_type": "code",
   "execution_count": null,
   "metadata": {},
   "outputs": [],
   "source": [
    "import math\n",
    "from functools import partial\n",
    "\n",
    "import numpy as np\n",
    "import torch\n",
    "import torch.nn as nn\n",
    "from torch.utils.data import DataLoader, random_split, Dataset\n",
    "from torch.nn.utils.rnn import pad_sequence\n",
    "from transformers import PreTrainedTokenizerFast"
   ]
  },
  {
   "cell_type": "code",
   "execution_count": null,
   "metadata": {
    "execution": {
     "iopub.execute_input": "2025-10-19T23:53:50.821721Z",
     "iopub.status.busy": "2025-10-19T23:53:50.821386Z",
     "iopub.status.idle": "2025-10-19T23:53:50.859934Z",
     "shell.execute_reply": "2025-10-19T23:53:50.859215Z",
     "shell.execute_reply.started": "2025-10-19T23:53:50.821696Z"
    },
    "trusted": true
   },
   "outputs": [],
   "source": [
    "TOKENIZERS_PARALLELISM=True\n",
    "\n",
    "tokenizer = PreTrainedTokenizerFast(\n",
    "    tokenizer_file=\"/kaggle/input/subword-rnn-lstm/rap_tokenizer.json\",\n",
    "    pad_token = \"<PAD>\"\n",
    ")\n",
    "\n",
    "device1 = torch.device(\"cuda:0\")"
   ]
  },
  {
   "cell_type": "markdown",
   "metadata": {},
   "source": [
    "## Creation of the dataset"
   ]
  },
  {
   "cell_type": "code",
   "execution_count": null,
   "metadata": {
    "execution": {
     "iopub.execute_input": "2025-10-19T23:53:50.860844Z",
     "iopub.status.busy": "2025-10-19T23:53:50.860667Z",
     "iopub.status.idle": "2025-10-19T23:53:53.372651Z",
     "shell.execute_reply": "2025-10-19T23:53:53.372106Z",
     "shell.execute_reply.started": "2025-10-19T23:53:50.860830Z"
    },
    "trusted": true
   },
   "outputs": [],
   "source": [
    "dataset_ = np.load(\"/kaggle/input/subword-rnn-lstm/encoded.npy\",\"r\")\n",
    "\n",
    "result = []\n",
    "for t in dataset_:\n",
    "    if t == tokenizer.convert_tokens_to_ids(\"α\") : \n",
    "        current = []\n",
    "        current.append(t)\n",
    "    elif t == tokenizer.convert_tokens_to_ids(\"θ\") :\n",
    "        current.append(t)\n",
    "        result.append(torch.tensor(current))\n",
    "    else :\n",
    "        current.append(t)\n",
    "if current:  \n",
    "    result.append(torch.tensor(current))\n",
    "\n",
    "class SongDataset(Dataset):\n",
    "    def __init__(self, texts, length_seq, stride, use_offset=True):\n",
    "        self.samples = []\n",
    "        self.length_seq = length_seq\n",
    "        self.stride = stride\n",
    "\n",
    "        for text in texts:\n",
    "            L = len(text)\n",
    "\n",
    "            offset = torch.randint(0, stride, (1,)).item() if use_offset else 0\n",
    "\n",
    "            # --- Boucle principale ---\n",
    "            for start in range(offset, max(1, L - self.length_seq), self.stride):\n",
    "                x_start, x_end = start, start + self.length_seq\n",
    "                y_start, y_end = start + 1, start + 1 + self.length_seq\n",
    "\n",
    "                x = text[x_start:x_end]\n",
    "                y = text[y_start:y_end]\n",
    "\n",
    "                self.samples.append((x, y))\n",
    "\n",
    "    def __len__(self):\n",
    "        return len(self.samples)\n",
    "\n",
    "    def __getitem__(self, idx):\n",
    "        return self.samples[idx]"
   ]
  },
  {
   "cell_type": "code",
   "execution_count": null,
   "metadata": {
    "execution": {
     "iopub.execute_input": "2025-10-19T23:53:53.373562Z",
     "iopub.status.busy": "2025-10-19T23:53:53.373312Z",
     "iopub.status.idle": "2025-10-19T23:53:53.891018Z",
     "shell.execute_reply": "2025-10-19T23:53:53.890462Z",
     "shell.execute_reply.started": "2025-10-19T23:53:53.373538Z"
    },
    "trusted": true
   },
   "outputs": [],
   "source": [
    "len_train = int(len(result) * 0.8)\n",
    "len_test = len(result) - len_train\n",
    "\n",
    "generator = torch.Generator().manual_seed(42)\n",
    "train, test = random_split(result, [len_train, len_test], generator = generator)\n",
    "\n",
    "train_ds = SongDataset(train, length_seq=256, stride = 16, use_offset = True) # Stride 16 to reduce overlap and redundancy of data : to prevent overfitting\n",
    "test_ds = SongDataset(test, length_seq=256, stride = 16, use_offset = False) # No offset for validation set"
   ]
  },
  {
   "cell_type": "markdown",
   "metadata": {},
   "source": [
    "## Creation of Dataloader and co"
   ]
  },
  {
   "cell_type": "code",
   "execution_count": null,
   "metadata": {
    "execution": {
     "iopub.execute_input": "2025-10-19T23:53:53.892961Z",
     "iopub.status.busy": "2025-10-19T23:53:53.892750Z",
     "iopub.status.idle": "2025-10-19T23:53:53.897643Z",
     "shell.execute_reply": "2025-10-19T23:53:53.896930Z",
     "shell.execute_reply.started": "2025-10-19T23:53:53.892945Z"
    },
    "trusted": true
   },
   "outputs": [],
   "source": [
    "def collate_batch(batch, tokenizer):\n",
    "    X, Y = zip(*batch)\n",
    "\n",
    "    X_padded = pad_sequence(X, batch_first=True, padding_value=tokenizer.pad_token_id)\n",
    "    Y_padded = pad_sequence(Y, batch_first=True, padding_value=tokenizer.pad_token_id)\n",
    "\n",
    "    batch_enc = [ X_padded,Y_padded]\n",
    "\n",
    "    return batch_enc\n",
    "\n",
    "# Create a callable version of collate_fn with your tokenizer\n",
    "collate_fn = partial(collate_batch, tokenizer=tokenizer)\n",
    "\n",
    "#Normally a function requires to specify the options at the initiation but partial allows to specify values for the required option that will\n",
    "#be stored and then be used when the function will be called\n",
    "# collate_fn(batch) == collate_batch(batch, tokenizer=tokenizer)"
   ]
  },
  {
   "cell_type": "code",
   "execution_count": null,
   "metadata": {
    "execution": {
     "iopub.execute_input": "2025-10-19T23:53:53.898634Z",
     "iopub.status.busy": "2025-10-19T23:53:53.898408Z",
     "iopub.status.idle": "2025-10-19T23:53:53.911892Z",
     "shell.execute_reply": "2025-10-19T23:53:53.911305Z",
     "shell.execute_reply.started": "2025-10-19T23:53:53.898611Z"
    },
    "trusted": true
   },
   "outputs": [],
   "source": [
    "batch_size = 512\n",
    "\n",
    "train_dl = DataLoader(train_ds, batch_size=batch_size, pin_memory=True, pin_memory_device=\"cuda:0\", \n",
    "                        num_workers=4, prefetch_factor=4, shuffle=False, drop_last=True, collate_fn = collate_fn) #Shuffle False because we need the RNN to use previous sequences data to predict next one\n",
    "test_dl = DataLoader(test_ds, batch_size=batch_size, pin_memory=True, pin_memory_device=\"cuda:0\", \n",
    "                       num_workers=2, prefetch_factor=2, shuffle=False, drop_last=True, collate_fn = collate_fn)"
   ]
  },
  {
   "cell_type": "markdown",
   "metadata": {},
   "source": [
    "## Models"
   ]
  },
  {
   "cell_type": "markdown",
   "metadata": {},
   "source": [
    "### Training part"
   ]
  },
  {
   "cell_type": "code",
   "execution_count": null,
   "metadata": {
    "execution": {
     "iopub.execute_input": "2025-10-19T23:53:53.912813Z",
     "iopub.status.busy": "2025-10-19T23:53:53.912550Z",
     "iopub.status.idle": "2025-10-19T23:53:53.926185Z",
     "shell.execute_reply": "2025-10-19T23:53:53.925595Z",
     "shell.execute_reply.started": "2025-10-19T23:53:53.912792Z"
    },
    "trusted": true
   },
   "outputs": [],
   "source": [
    "class Subword_RNN(nn.Module):\n",
    "    def __init__(self, vocab_size, emb_size, hidden_size, num_layers=1, dropout = 0):\n",
    "        super(Subword_RNN, self).__init__()\n",
    "        self.hidden_size = hidden_size\n",
    "        self.num_layers = num_layers\n",
    "        \n",
    "        self.embedding = nn.Embedding(vocab_size, emb_size, padding_idx= 0)\n",
    "        self.rnn = nn.RNN(emb_size, hidden_size, num_layers, batch_first=True, dropout = dropout, nonlinearity =\"relu\")\n",
    "        self.drop = nn.Dropout(p=dropout)\n",
    "        self.ln = nn.LayerNorm(hidden_size)\n",
    "        self.fc = nn.Linear(hidden_size, vocab_size)\n",
    "\n",
    "    def forward(self, x, hidden):\n",
    "        x = self.drop(self.embedding(x))\n",
    "        out, hidden = self.rnn(x, hidden)\n",
    "#        out = self.ln(out)\n",
    "        out = self.drop(out)\n",
    "        out = self.fc(out)                  \n",
    "        return out, hidden\n",
    "\n",
    "    def init_hidden(self, batch_size):\n",
    "        return torch.zeros(self.num_layers, batch_size, self.hidden_size)"
   ]
  },
  {
   "cell_type": "code",
   "execution_count": null,
   "metadata": {
    "execution": {
     "iopub.execute_input": "2025-10-19T23:53:53.927072Z",
     "iopub.status.busy": "2025-10-19T23:53:53.926818Z",
     "iopub.status.idle": "2025-10-19T23:53:58.515292Z",
     "shell.execute_reply": "2025-10-19T23:53:58.514516Z",
     "shell.execute_reply.started": "2025-10-19T23:53:53.927047Z"
    },
    "trusted": true
   },
   "outputs": [],
   "source": [
    "embedding_dim = 384\n",
    "vocab_size = tokenizer.vocab_size\n",
    "hidden_size = 512\n",
    "num_epoch = 100\n",
    "\n",
    "nb_step_train = len(train_dl)\n",
    "nb_step_test = len(test_dl)\n",
    "\n",
    "model = Subword_RNN(vocab_size, embedding_dim, hidden_size, num_layers=3, dropout = 0.2).to(device1)\n",
    "model = torch.compile(model)\n",
    "    \n",
    "loss_fn = nn.CrossEntropyLoss(ignore_index = 0)\n",
    "\n",
    "opti = torch.optim.AdamW(model.parameters(), lr=0.002, weight_decay=1e-4)\n",
    "sched_warm = torch.optim.lr_scheduler.LinearLR(opti,start_factor=0.2,end_factor=1.0,total_iters=nb_step_train * 3)\n",
    "sched_post = torch.optim.lr_scheduler.CosineAnnealingWarmRestarts(opti, T_0=nb_step_train*20, T_mult=2, eta_min=0.0001) "
   ]
  },
  {
   "cell_type": "code",
   "execution_count": null,
   "metadata": {
    "execution": {
     "iopub.execute_input": "2025-10-19T23:53:58.516442Z",
     "iopub.status.busy": "2025-10-19T23:53:58.516095Z",
     "iopub.status.idle": "2025-10-19T23:53:58.526359Z",
     "shell.execute_reply": "2025-10-19T23:53:58.525618Z",
     "shell.execute_reply.started": "2025-10-19T23:53:58.516419Z"
    },
    "trusted": true
   },
   "outputs": [],
   "source": [
    "@torch.no_grad()\n",
    "def evaluate_tf1(model, dl, loss_fn, device, vocab_size, nb_step_test):\n",
    "    model.eval()\n",
    "    total_loss = 0.0\n",
    "\n",
    "    for X, Y in dl:\n",
    "        X = X.to(device)\n",
    "        Y = Y.to(device, dtype=torch.long)\n",
    "        bs, sl = X.size(0), X.size(1)\n",
    "        hid = model.init_hidden(bs).to(device)\n",
    "\n",
    "        with torch.amp.autocast(device_type=\"cuda\"):\n",
    "            pred, _ = model(X, hid)  # (bs, sl, vocab)\n",
    "            loss = loss_fn(pred.view(-1, vocab_size), Y.view(-1))\n",
    "\n",
    "        total_loss += loss.item()\n",
    "\n",
    "    ppl = math.exp(total_loss / nb_step_test)\n",
    "    return ppl\n",
    "\n",
    "\n",
    "def sample_with_temp(logits, temp=1.0):\n",
    "    probs = (logits / temp).softmax(dim=-1)\n",
    "    next_token = torch.multinomial(probs, num_samples=1)\n",
    "    return next_token\n",
    "\n",
    "def distinct_n_chars(text, n=3):\n",
    "    ngrams = [text[i:i+n] for i in range(len(text)-n+1)]\n",
    "    return len(set(ngrams)) / max(1, len(ngrams))"
   ]
  },
  {
   "cell_type": "code",
   "execution_count": null,
   "metadata": {
    "execution": {
     "iopub.execute_input": "2025-10-19T23:53:58.527545Z",
     "iopub.status.busy": "2025-10-19T23:53:58.527198Z"
    },
    "trusted": true
   },
   "outputs": [],
   "source": [
    "list_offset = []\n",
    "l_tot = []\n",
    "best_val = float(\"inf\")\n",
    "teacher_forcing_ratio = 1\n",
    "\n",
    "scaler = torch.amp.GradScaler()\n",
    "\n",
    "for epoch in range(num_epoch):\n",
    "\n",
    "    model.train()\n",
    "\n",
    "    # -------------- TRAIN LOOP --------------\n",
    "    train_loss_sum = 0.0\n",
    "\n",
    "    for X,Y in iter(train_dl) :\n",
    "        hid = model.init_hidden(batch_size).to(device1)\n",
    "        X = X.to(device1)\n",
    "        Y = Y.to(device1, dtype=torch.long)\n",
    "        opti.zero_grad(set_to_none=True)\n",
    "\n",
    "        with torch.amp.autocast(device_type=\"cuda\"):\n",
    "            pred, hid = model(X, hid)\n",
    "            loss = loss_fn(pred.view(-1, vocab_size), Y.view(-1))\n",
    "\n",
    "        scaler.scale(loss).backward()\n",
    "        torch.nn.utils.clip_grad_norm_(model.parameters(), 2)\n",
    "        scaler.step(opti)\n",
    "        scaler.update()\n",
    "\n",
    "        train_loss_sum += loss.detach().item() \n",
    "\n",
    "        if epoch < 3:\n",
    "            sched_warm.step()\n",
    "        else:\n",
    "            sched_post.step()\n",
    "\n",
    "        if sched_post.T_cur == 0 and epoch > 4:  #After warm restart decrease the max learning rate\n",
    "            sched_post.base_lrs[0] = sched_post.base_lrs[0] * 0.9\n",
    "            print(f\"Decrease {sched_post.base_lrs[0]}, {sched_post.eta_min}\")\n",
    "            \n",
    "    train_ppl = math.exp(train_loss_sum / nb_step_train)\n",
    "\n",
    "    # -------------- VALIDATION --------------\n",
    "    val_ppl = evaluate_tf1(model, test_dl, loss_fn, device1, vocab_size, nb_step_test)\n",
    "\n",
    "    print(\n",
    "        f\"Epoch {epoch} | \"\n",
    "        f\"Train PPL: {train_ppl:.3f} | \"\n",
    "        f\"Val PPL (TF=1): {val_ppl:.3f} \"\n",
    "    )\n",
    "\n",
    "    # --------- Sample generation + diversity metrics ---------\n",
    "    model.eval()\n",
    "    with torch.no_grad():\n",
    "        start = X[0:1, :20]  \n",
    "        hid_gen = model.init_hidden(1).to(device1)\n",
    "        inp = start.to(device1)\n",
    "\n",
    "        gen_chars = []\n",
    "        for t in range(200):  \n",
    "            pred, hid_gen = model(inp, hid_gen)\n",
    "            logits = pred[:, -1, :]  # last step\n",
    "            next_char = sample_with_temp(logits, temp=0.6)\n",
    "            gen_chars.append(tokenizer.decode(next_char.item()))\n",
    "            inp = next_char # feed back\n",
    "\n",
    "        gen_text = \"\".join(gen_chars)\n",
    "\n",
    "    # --- Distinct-n métriques ---\n",
    "    d2 = distinct_n_chars(gen_text, n=2)\n",
    "    d3 = distinct_n_chars(gen_text, n=3)\n",
    "\n",
    "    if epoch % 4 == 0 :\n",
    "        print(\"\\n=== Initial text ===\")\n",
    "        print(\"\".join(tokenizer.decode(X[0:1,:20].squeeze(0))))\n",
    "        print(\"\\n=== Sample Generation ===\")\n",
    "        print(gen_text[:200])  # affiche les 200 premiers chars\n",
    "        print(f\"Distinct-2: {d2:.3f} | Distinct-3: {d3:.3f}\", end=\"\\n\")\n",
    "\n",
    "    # Record accuracy\n",
    "    if val_ppl < best_val :\n",
    "        best_val = val_ppl\n",
    "        l_tot.append(val_ppl)\n",
    "        torch.save(\n",
    "            {\n",
    "                \"epoch\": epoch,\n",
    "                \"model_state_dict\": model.state_dict(),\n",
    "                \"optimizer_state_dict\": opti.state_dict(),\n",
    "                \"scheduler_state_dict\": sched_post.state_dict(),\n",
    "                \"val_ppl\": val_ppl,\n",
    "            },\n",
    "            \"model\",\n",
    "        )"
   ]
  }
 ],
 "metadata": {
  "kaggle": {
   "accelerator": "nvidiaTeslaT4",
   "dataSources": [
    {
     "datasetId": 8348047,
     "sourceId": 13425138,
     "sourceType": "datasetVersion"
    }
   ],
   "dockerImageVersionId": 31090,
   "isGpuEnabled": true,
   "isInternetEnabled": true,
   "language": "python",
   "sourceType": "notebook"
  },
  "kernelspec": {
   "display_name": "Python 3",
   "language": "python",
   "name": "python3"
  },
  "language_info": {
   "codemirror_mode": {
    "name": "ipython",
    "version": 3
   },
   "file_extension": ".py",
   "mimetype": "text/x-python",
   "name": "python",
   "nbconvert_exporter": "python",
   "pygments_lexer": "ipython3",
   "version": "3.11.13"
  }
 },
 "nbformat": 4,
 "nbformat_minor": 4
}
